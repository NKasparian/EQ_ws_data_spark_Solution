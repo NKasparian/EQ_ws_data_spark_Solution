{
 "cells": [
  {
   "cell_type": "code",
   "execution_count": 219,
   "id": "5378f6f4",
   "metadata": {},
   "outputs": [],
   "source": [
    "import os\n",
    "from pyspark.sql import SparkSession\n",
    "from pyspark.sql.functions import *\n",
    "\n",
    "spark = SparkSession.builder.master('local').getOrCreate()\n",
    "df = spark.read.options(\n",
    "    header='True',\n",
    "    inferSchema='True',\n",
    "    delimiter=',',\n",
    ").csv(os.path.expanduser('~/data/DataSample.csv'))\n",
    "\n",
    "poi = spark.read.options(\n",
    "    header='True',\n",
    "    inferSchema='True',\n",
    "    delimiter=',',\n",
    ").csv(os.path.expanduser('~/data/POIList.csv'))"
   ]
  },
  {
   "cell_type": "code",
   "execution_count": 220,
   "id": "e2a14354",
   "metadata": {},
   "outputs": [
    {
     "name": "stdout",
     "output_type": "stream",
     "text": [
      "+-------+-----------------------+-------+--------+---------+--------+---------+\n",
      "|_ID    | TimeSt                |Country|Province|City     |Latitude|Longitude|\n",
      "+-------+-----------------------+-------+--------+---------+--------+---------+\n",
      "|4516516|2017-06-21 00:00:00.143|CA     |ON      |Waterloo |43.49347|-80.49123|\n",
      "|4516547|2017-06-21 18:00:00.193|CA     |ON      |London   |42.9399 |-81.2709 |\n",
      "|4516550|2017-06-21 15:00:00.287|CA     |ON      |Guelph   |43.5776 |-80.2201 |\n",
      "|4516600|2017-06-21 15:00:00.307|CA     |ON      |Stratford|43.3716 |-80.9773 |\n",
      "|4516613|2017-06-21 15:00:00.497|CA     |ON      |Stratford|43.3716 |-80.9773 |\n",
      "|4516693|2017-06-21 14:00:00.597|CA     |ON      |Kitchener|43.4381 |-80.5099 |\n",
      "|4516771|2017-06-21 10:00:00.873|CA     |ON      |Sarnia   |42.961  |-82.373  |\n",
      "|4516831|2017-06-21 12:00:00.950|CA     |ON      |London   |43.0091 |-81.1765 |\n",
      "|4516915|2017-06-21 15:00:01.310|CA     |ON      |London   |43.0091 |-81.1765 |\n",
      "|4516953|2017-06-21 16:00:01.700|CA     |ON      |Kitchener|43.4278 |-80.5135 |\n",
      "+-------+-----------------------+-------+--------+---------+--------+---------+\n",
      "only showing top 10 rows\n",
      "\n"
     ]
    }
   ],
   "source": [
    "df.show(10,False)"
   ]
  },
  {
   "cell_type": "code",
   "execution_count": 221,
   "id": "6a08cbe9",
   "metadata": {},
   "outputs": [
    {
     "data": {
      "text/plain": [
       "22025"
      ]
     },
     "execution_count": 221,
     "metadata": {},
     "output_type": "execute_result"
    }
   ],
   "source": [
    "df.count()"
   ]
  },
  {
   "cell_type": "code",
   "execution_count": 222,
   "id": "a9f9977a",
   "metadata": {},
   "outputs": [
    {
     "name": "stdout",
     "output_type": "stream",
     "text": [
      "+-----+---------+-----------+\n",
      "|POIID| Latitude|Longitude  |\n",
      "+-----+---------+-----------+\n",
      "|POI1 |53.546167|-113.485734|\n",
      "|POI2 |53.546167|-113.485734|\n",
      "|POI3 |45.521629|-73.566024 |\n",
      "|POI4 |45.22483 |-63.232729 |\n",
      "+-----+---------+-----------+\n",
      "\n"
     ]
    }
   ],
   "source": [
    "poi.show(10,False)"
   ]
  },
  {
   "cell_type": "code",
   "execution_count": 223,
   "id": "2a69f93c",
   "metadata": {},
   "outputs": [
    {
     "data": {
      "text/plain": [
       "22025"
      ]
     },
     "execution_count": 223,
     "metadata": {},
     "output_type": "execute_result"
    }
   ],
   "source": [
    "df.where(length(col(\" TimeSt\")) == 23).count()"
   ]
  },
  {
   "cell_type": "code",
   "execution_count": 224,
   "id": "f2276135",
   "metadata": {},
   "outputs": [
    {
     "data": {
      "text/plain": [
       "22025"
      ]
     },
     "execution_count": 224,
     "metadata": {},
     "output_type": "execute_result"
    }
   ],
   "source": [
    "df.select(col(\"_ID\")).distinct().count()"
   ]
  },
  {
   "cell_type": "markdown",
   "id": "482797f1",
   "metadata": {},
   "source": [
    "1. CLEANUP / FINDING SUSPICIOUS IDs"
   ]
  },
  {
   "cell_type": "code",
   "execution_count": 237,
   "id": "e81a6cd3",
   "metadata": {},
   "outputs": [],
   "source": [
    "p=(df.groupBy([' TimeSt', 'Latitude', 'Longitude']).agg(collect_list(\"_ID\").alias(\"id\")).\n",
    "    where(size(\"id\") > 1)).select(explode(\"id\").alias(\"_ID\"))\n",
    "data=df.join(p, df[\"_ID\"] == p[\"_ID\"], \"left_anti\").drop(p[\"_ID\"]) "
   ]
  },
  {
   "cell_type": "code",
   "execution_count": 238,
   "id": "d16a50b4",
   "metadata": {},
   "outputs": [
    {
     "data": {
      "text/plain": [
       "17973"
      ]
     },
     "execution_count": 238,
     "metadata": {},
     "output_type": "execute_result"
    }
   ],
   "source": [
    "data.count()"
   ]
  },
  {
   "cell_type": "markdown",
   "id": "3120915b",
   "metadata": {},
   "source": [
    "2. LABEL"
   ]
  },
  {
   "cell_type": "code",
   "execution_count": 239,
   "id": "e6b1ef26",
   "metadata": {},
   "outputs": [],
   "source": [
    "def getDistance(lat1,lon1,lat2,lon2):\n",
    "    R=6371\n",
    "    lon1=toRadians(lon1)\n",
    "    lat1=toRadians(lat1)\n",
    "    lon2=toRadians(lon2)\n",
    "    lat2=toRadians(lat2)\n",
    "    a=sin((lat1-lat2)/2)**2+cos(lat1)*cos(lat2)*sin((lon1-lon2)/2)**2\n",
    "    c=2*atan2(sqrt(a),sqrt(1-a))\n",
    "    d=R*c\n",
    "    return d"
   ]
  },
  {
   "cell_type": "code",
   "execution_count": 240,
   "id": "67030206",
   "metadata": {},
   "outputs": [],
   "source": [
    "fullData=data.crossJoin(poi.withColumnRenamed(\" Latitude\", \"POI_Latitude\").withColumnRenamed(\"Longitude\", \"POI_Longitude\"))"
   ]
  },
  {
   "cell_type": "code",
   "execution_count": 241,
   "id": "a8f6626c",
   "metadata": {},
   "outputs": [],
   "source": [
    "fullDataWithDistance=fullData.withColumn(\"distance\", getDistance(col(\"Latitude\"),col(\"Longitude\"), col(\"POI_Latitude\"),col(\"POI_Longitude\")))"
   ]
  },
  {
   "cell_type": "code",
   "execution_count": 242,
   "id": "db77a52c",
   "metadata": {},
   "outputs": [],
   "source": [
    "d = fullDataWithDistance.groupBy(col(\"_ID\")).agg(min(\"distance\"))"
   ]
  },
  {
   "cell_type": "code",
   "execution_count": 243,
   "id": "a5b40064",
   "metadata": {},
   "outputs": [],
   "source": [
    "fullDataWithMinDistance = d.join(fullDataWithDistance,(d[\"_ID\"] == fullDataWithDistance[\"_ID\"]) & (fullDataWithDistance[\"distance\"] == d[\"min(distance)\"])).drop(\"distance\").drop(d[\"_ID\"]).distinct()"
   ]
  },
  {
   "cell_type": "markdown",
   "id": "199ca438",
   "metadata": {},
   "source": [
    "3. ANALYSIS"
   ]
  },
  {
   "cell_type": "code",
   "execution_count": 244,
   "id": "9387bf64",
   "metadata": {},
   "outputs": [],
   "source": [
    "k = fullDataWithDistance.groupBy(\"_ID\").agg(mean(\"distance\").alias(\"avgDistance\"),stddev(\"distance\").alias(\"stddevDistance\"))\n",
    "fullDataWithMinDistanceStats = k.join(fullDataWithMinDistance,[\"_ID\"])"
   ]
  },
  {
   "cell_type": "code",
   "execution_count": 245,
   "id": "aedee8fd",
   "metadata": {},
   "outputs": [],
   "source": [
    "import numpy as np\n",
    "\n",
    "a=fullDataWithMinDistanceStats.groupBy('_ID').agg(max(\"min(distance)\").alias('Radius'), count(\"min(distance)\").alias('Count'))\n",
    "b = a.withColumn('Density',a['Count']/(a['Radius']**2*np.pi)).drop(\"Count\")\n",
    "fullDataWithMinDistanceStatsRadiusDensity = fullDataWithMinDistanceStats.join(b,[\"_ID\"])"
   ]
  },
  {
   "cell_type": "markdown",
   "id": "f5a7dc92",
   "metadata": {},
   "source": [
    "4. MODEL : scale =(high-low)*(x-min)/(max-min)+low; high=10, low=-10"
   ]
  },
  {
   "cell_type": "code",
   "execution_count": 246,
   "id": "ee289585",
   "metadata": {},
   "outputs": [],
   "source": [
    "def getScale(density,lowestDensity,highestDensity):\n",
    "    s = 20*(density-lowestDensity)/(highestDensity-lowestDensity)-10\n",
    "    return s"
   ]
  },
  {
   "cell_type": "code",
   "execution_count": 247,
   "id": "dc854a09",
   "metadata": {},
   "outputs": [],
   "source": [
    "lowestDensity=fullDataWithMinDistanceStatsRadiusDensity.select([min(\"Density\")]).collect()[0][0]\n",
    "highestDensity=fullDataWithMinDistanceStatsRadiusDensity.select([max(\"Density\")]).collect()[0][0]"
   ]
  },
  {
   "cell_type": "code",
   "execution_count": 248,
   "id": "4895317b",
   "metadata": {},
   "outputs": [],
   "source": [
    "final=fullDataWithMinDistanceStatsRadiusDensity.withColumn(\"Scale\",getScale(col(\"Density\"),lit(lowestDensity),lit(highestDensity)))"
   ]
  },
  {
   "cell_type": "code",
   "execution_count": 249,
   "id": "084e7324",
   "metadata": {},
   "outputs": [
    {
     "name": "stdout",
     "output_type": "stream",
     "text": [
      "+-------+------------------+------------------+------------------+--------------------+-------+--------+----------------+--------+---------+-----+------------+-------------+------------------+--------------------+------------------+\n",
      "|    _ID|       avgDistance|    stddevDistance|     min(distance)|              TimeSt|Country|Province|            City|Latitude|Longitude|POIID|POI_Latitude|POI_Longitude|            Radius|             Density|             Scale|\n",
      "+-------+------------------+------------------+------------------+--------------------+-------+--------+----------------+--------+---------+-----+------------+-------------+------------------+--------------------+------------------+\n",
      "|4517905|1895.4265435455209| 839.2083047880213| 832.9559044776652|2017-06-21 17:00:...|     CA|      ON|         Windsor| 42.2957| -82.9599| POI3|   45.521629|   -73.566024| 832.9559044776652|4.587817198969043E-7|-9.999998263903002|\n",
      "|4526426|1742.2775784880255|  1522.53566250839|219.46152613300868|2017-06-21 17:00:...|     CA|      QC|   Saint-Nicolas|46.72072|-71.30409| POI3|   45.521629|   -73.566024|219.46152613300868|6.608963257202515E-6| -9.99997480451941|\n",
      "|4535091|1828.4274440206968|1813.2311294948663| 279.5544969402005|2017-06-21 11:00:...|     CA|      AB|         Calgary|  51.049|-113.9622| POI2|   53.546167|  -113.485734| 279.5544969402005|8.146051613663375E-6|-9.999968941416808|\n",
      "|4535091|1828.4274440206968|1813.2311294948663| 279.5544969402005|2017-06-21 11:00:...|     CA|      AB|         Calgary|  51.049|-113.9622| POI1|   53.546167|  -113.485734| 279.5544969402005|8.146051613663375E-6|-9.999968941416808|\n",
      "|4545807|1790.9866347504883|1095.1933458724595|489.24993432136625|2017-06-21 04:01:...|     CA|      ON|         Markham|43.85883|-79.29809| POI3|   45.521629|   -73.566024|489.24993432136625|1.329806879157381...|-9.999994941446062|\n",
      "|4559622|1757.9876727121268|1302.1918132181497| 273.4697053151552|2017-06-21 18:01:...|     CA|      ON|        Kingston| 44.2647| -76.5504| POI3|   45.521629|   -73.566024| 273.4697053151552|4.256294618884257E-6|-9.999983778588827|\n",
      "|4566292|1805.4975228378885| 1075.878280815425| 522.8598800591233|2017-06-21 03:01:...|     CA|      ON|     Mississauga|  43.603| -79.5938| POI3|   45.521629|   -73.566024| 522.8598800591233|1.164339120240387...| -9.99999557260981|\n",
      "|4627121|1804.8016759262355|1050.9198533751014| 543.7619035267015|2017-06-21 03:05:...|     CA|      ON|      Georgetown| 43.6492| -79.9117| POI3|   45.521629|   -73.566024| 543.7619035267015|1.076545953406384...|-9.999995907489938|\n",
      "|4641250|2352.3236105016795|1692.0003826359684| 575.3734521671197|2017-06-21 20:06:...|     CA|      NL|    Corner Brook| 48.9516| -57.9553| POI4|    45.22483|   -63.232729| 575.3734521671197|9.615026557227027E-7|-9.999996346313544|\n",
      "|4642240| 1672.191163111265|1938.4196964888542|11.787141911505332|2017-06-21 13:07:...|     CA|      AB|        Edmonton| 53.5185|-113.6579| POI2|   53.546167|  -113.485734|11.787141911505332|0.004582084547806...|-9.982522012889417|\n",
      "|4642240| 1672.191163111265|1938.4196964888542|11.787141911505332|2017-06-21 13:07:...|     CA|      AB|        Edmonton| 53.5185|-113.6579| POI1|   53.546167|  -113.485734|11.787141911505332|0.004582084547806...|-9.982522012889417|\n",
      "|4655592|1833.1303697131234|1816.1648929086837|281.68360939878124|2017-06-21 10:07:...|     CA|      AB|         Calgary| 51.0378| -114.065| POI2|   53.546167|  -113.485734|281.68360939878124|8.023372746968819E-6|-9.999969409365693|\n",
      "|4655592|1833.1303697131234|1816.1648929086837|281.68360939878124|2017-06-21 10:07:...|     CA|      AB|         Calgary| 51.0378| -114.065| POI1|   53.546167|  -113.485734|281.68360939878124|8.023372746968819E-6|-9.999969409365693|\n",
      "|4658793|1827.3830430880912| 1107.064971986952| 522.0193020213833|2017-06-21 01:08:...|     CA|      ON|Saint Catharines| 43.1644| -79.2456| POI3|   45.521629|   -73.566024| 522.0193020213833|1.168091877565967...|-9.999995558295213|\n",
      "|4670539|1841.4378942299106|1807.3516758773173|297.83354468117165|2017-06-21 06:08:...|     CA|      AB|         Calgary|50.88933|-114.0407| POI1|   53.546167|  -113.485734|297.83354468117165|7.176834020366264...|-9.999972638421061|\n",
      "|4670539|1841.4378942299106|1807.3516758773173|297.83354468117165|2017-06-21 06:08:...|     CA|      AB|         Calgary|50.88933|-114.0407| POI2|   53.546167|  -113.485734|297.83354468117165|7.176834020366264...|-9.999972638421061|\n",
      "|4670861|1828.1790338994197|1813.0503029716851| 279.4649002371469|2017-06-21 04:09:...|     CA|      AB|         Calgary| 51.0494|-113.9564| POI2|   53.546167|  -113.485734| 279.4649002371469|8.151275714175895E-6|-9.999968921489888|\n",
      "|4670861|1828.1790338994197|1813.0503029716851| 279.4649002371469|2017-06-21 04:09:...|     CA|      AB|         Calgary| 51.0494|-113.9564| POI1|   53.546167|  -113.485734| 279.4649002371469|8.151275714175895E-6|-9.999968921489888|\n",
      "|4700696|1811.8020526340842|1068.1567136289075|  536.874099019427|2017-06-21 00:11:...|     CA|      ON|        Oakville| 43.4934| -79.7126| POI3|   45.521629|   -73.566024|  536.874099019427|1.104346152928314E-6|-9.999995801448263|\n",
      "|4747687|1828.1790338994197|1813.0503029716851| 279.4649002371469|2017-06-21 08:15:...|     CA|      AB|         Calgary| 51.0494|-113.9564| POI1|   53.546167|  -113.485734| 279.4649002371469|8.151275714175895E-6|-9.999968921489888|\n",
      "+-------+------------------+------------------+------------------+--------------------+-------+--------+----------------+--------+---------+-----+------------+-------------+------------------+--------------------+------------------+\n",
      "only showing top 20 rows\n",
      "\n"
     ]
    }
   ],
   "source": [
    "final.show()"
   ]
  },
  {
   "cell_type": "code",
   "execution_count": null,
   "id": "5e787e06",
   "metadata": {},
   "outputs": [],
   "source": []
  }
 ],
 "metadata": {
  "kernelspec": {
   "display_name": "Python 3",
   "language": "python",
   "name": "python3"
  },
  "language_info": {
   "codemirror_mode": {
    "name": "ipython",
    "version": 3
   },
   "file_extension": ".py",
   "mimetype": "text/x-python",
   "name": "python",
   "nbconvert_exporter": "python",
   "pygments_lexer": "ipython3",
   "version": "3.9.4"
  }
 },
 "nbformat": 4,
 "nbformat_minor": 5
}
